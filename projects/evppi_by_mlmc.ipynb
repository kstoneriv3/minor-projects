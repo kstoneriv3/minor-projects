{
 "cells": [
  {
   "cell_type": "markdown",
   "metadata": {},
   "source": [
    "# Short implementation of MLMC of EVPPI (Giles, Goda 2017). \n",
    "NOTICE: code is not optimized for performance."
   ]
  },
  {
   "cell_type": "code",
   "execution_count": 1,
   "metadata": {},
   "outputs": [],
   "source": [
    "### import packages in advance ###\n",
    "import numpy as np\n",
    "from matplotlib import pyplot as plt\n",
    "\n",
    "### for code optimization, you might not need this to compute EVPPI ###\n",
    "from numba import jit"
   ]
  },
  {
   "cell_type": "markdown",
   "metadata": {},
   "source": [
    "The estimation of Expected Value of Partial Perfect Infomation (EVPPI) has a variety of applications, such as the estimation of the cost effectiveness of medical research, boring survey of oil reservior. However, the estimation of EVPPI had been computationally very costly, since the form of the estimator is the expectation of the nested expectation. In the past it was computed using nested monte carlo with the computational cost of $O(\\varepsilon^{-3})$ to achinve the accuracy of $\\varepsilon$ ($MSE\\leq \\varepsilon^{-2}$). \n",
    "\n",
    "In 2017, Giles and Goda computed this using Multi Level Monte Carlo method and achieved computational complexity of $O(\\varepsilon^{-2})$, which is drastically faster than the conventional nested monte carlo. This notebook is meant to be a short replication of the numerical experiment given in the original paper ([Giles, Goda 2017](https://arxiv.org/abs/1708.05531?context=math))."
   ]
  },
  {
   "cell_type": "markdown",
   "metadata": {},
   "source": [
    "## 1. Theoretical Aspect of MLMC of EVPPI"
   ]
  },
  {
   "cell_type": "markdown",
   "metadata": {},
   "source": [
    "### 1.1 Definition of Variables"
   ]
  },
  {
   "cell_type": "markdown",
   "metadata": {},
   "source": [
    "| Variable | Explanation |\n",
    "|:-----------|:------------|\n",
    "|$X, Y$| Random variables.|\n",
    "|$d \\in D$|Decision of the given decision set $D$.|\n",
    "|$f_d(X,Y)$|Utility Function of the decision $d$, given $X,Y$.|\n",
    "|$\\displaystyle{ EVI = \\mathbb{E}_{X}[\\max_{d \\in D}{f_d(X)}] - \\max_{d \\in D}{\\mathbb{E}_{X}[f_d(X)]}}$|Expected value of information of $X$.|\n",
    "|$\\displaystyle EVPI = \\mathbb{E}_{X,Y}[\\max_{d \\in D}{f_d(X,Y)}] - \\max_{d \\in D}{\\mathbb{E}_{X,Y}[f_d(X,Y)]}$|Expected value of perfect information of $X,Y$.|\n",
    "|$\\displaystyle EVPPI = \\mathbb{E}_{X}[\\max_{d \\in D}{\\mathbb{E}_{Y \\mid X}[f_d(X,Y)]}] - \\max_{d \\in D}{\\mathbb{E}_{X,Y}[f_d(X,Y)]}$|Expected value of partial perfect information of $X,Y$<br> (expected value of information of $X$ without information of $Y$).|\n",
    "|$\\displaystyle P =\\mathbb{E}_{Y \\mid X}[\\max_{d \\in D}{f_d(X,Y)}] - \\max_{d \\in D}{\\mathbb{E}_{Y \\mid X}[f_d(X,Y)]}$|Inner conditional expectation of $EVPI - EVPPI$, with underlying random variable $X$.<br>Here $P$ satisfies $\\mathbb{E}_{X}[P] = EVPI - EVPPI$.|\n",
    "|$\\displaystyle P_l = \\scriptsize \\overline{\\max_{d \\in D}f_d(X)}^{1:2^{l}}  - \\max_{d \\in D}{ \\overline{f_d(X)}^{1:2^{l}}} $ $ \\displaystyle = \\scriptsize \\frac{1}{2^l}\\sum_{i=1}^{2^l}{\\max_{d \\in D}{f_d(X,Y^{(i)})}} - \\max_{d \\in D}{\\frac{1}{2^l}\\sum_{i=1}^{2^l}{f_d(X,Y^{(i)})}}  $|A consistent estimator of $P$ given $X$ ($\\Leftrightarrow P_l \\xrightarrow{p.} P$ ), with underlying random variable $Y^{(1)}, \\ldots ,Y^{(2^l)}$ and $X$. <br>Note that $\\mathbb{E}_{X}[P_l] \\xrightarrow{p.} \\mathbb{E}_{X}[P] = EVPI - EVPPI$ as $l \\to \\infty$.|\n",
    "|$\\displaystyle Z_l  = \\scriptsize  \\frac{1}{2} \\left[   \\max_{d \\in D}{ \\overline{f_d(X)}^{1:2^{l-1}}} + \\max_{d \\in D}{\\overline{f_d(X)}^{2^{l-1}+1:2^{l}}}  \\right]  - \\max_{d \\in D}{ \\overline{f_d(X)}^{1:2^{l}}} $ $ \\displaystyle = \\scriptsize \\frac{1}{2} \\left[  \\max_{d \\in D}{ \\frac{1}{2^{l-1}}\\sum_{i=1}^{2^{l-1}}f_d(X,Y^{(i)})}  + \\max_{d \\in D}{ \\frac{1}{2^{l-1}}\\sum_{i=1}^{2^{l-1}}f_d(X,Y^{(i)})} \\right] - \\max_{d \\in D}{ \\frac{1}{2^{l}}\\sum_{i=1}^{2^{l}}f_d(X,Y^{(i)})}  $|This is an unbiased estimator of $\\mathbb{E}_{Y \\mid X}[P_l-P_{l-1}] $ given $X$. Here, $ \\mathbb{E}_{Y \\mid X}[P_l-P_{l-1}] $ $= \\mathbb{E}_{Y \\mid X}[P_l] - \\mathbb{E}_{Y \\mid X}[P_{l-1}] $ $= \\mathbb{E}_{Y^{(l,1)}, \\ldots ,Y^{(l,2^l)} \\mid X}[P_l] - \\mathbb{E}_{Y^{(l-1,1)}, \\ldots ,Y^{(l-1,2^{l-1})} \\mid X}[P_{l-1}]$ <br>So, it is clear that $Z_l(X, Y^{(1)}, \\ldots , Y^{(2^l)} )$is an unbiased estimator of $\\mathbb{E}_{X,Y}[P_l-P_{l-1}]$|\n",
    "|$C[Z_l]$|Computational cost of sampling one example of $Z_l$, which is $O( 2^l )$ for fixed $\\lvert D \\rvert$.\n",
    "|$\\displaystyle \\hat{Z}^{(L)} =  \\sum_{l=1}^{L}{\\hat{Z}_l}$<br>Here, $ \\displaystyle  \\hat{Z}_l = \\frac{1}{N_l}\\sum_{n=1}^{N_l}{Z_l(X^{(n, l)}, Y^{(1, n, l)}, Y^{(2, n, l)}, \\ldots , Y^{(2^l, n, l)} )} $, and $ N_1, \\ldots ,N_L$ are determined by MLMC algolithm (Giles 2015) explained in the Section 1.3. |$\\hat{Z}^{(L)}$ is a MLMC estimator of $ \\mathbb{E}_{X}[P]=EVPI - EVPPI$. <br>This is because $\\hat{Z}^{(L)}$ is an unbiased estimator of $\\mathbb{E}_{X,Y}[P_L] = \\sum_{l=1}^{L}{\\mathbb{E}_{X,Y}[P_l-P_{l-1}]}$ since $\\hat{Z}_l$ is an unbiased estimator of $\\mathbb{E}_{X,Y}[P_l-P_{l-1}]$ and $\\mathbb{E}_{X,Y}[P_0]=0$.\n",
    "\n"
   ]
  },
  {
   "cell_type": "markdown",
   "metadata": {},
   "source": [
    "### 1.2 Mechnism and Algorithm of MLMC Estimation"
   ]
  },
  {
   "cell_type": "markdown",
   "metadata": {},
   "source": [
    "In order to take advantage of MLMC when estimating $EVPPI$, we constitute the MLMC estimator of $EVPI−EVPPI$ instead of the estimator of $EVPPI$ itself. It is because we can reduce the varianvce of MLMC estimator by doing so, and we also can estimate $EVPI$ by  accuracy of $\\varepsilon$ ( or $\\varepsilon_{\\text{total}} / \\sqrt{2}$ ) with computational complexity of $O(\\varepsilon^{-2})$. So we will focus on estimating $EVPI - EVPPI$ with as close cost to $O(\\varepsilon^{-2})$ as possible. \n",
    "\n",
    "\n",
    "Here, the main theorem of the [Giles, Goda 2017](https://arxiv.org/abs/1708.05531?context=math) guarantees that under appropriate ragular conditions regerding the utility function, we can use MLMC algorithm in [Giles 2015](https://www.cambridge.org/core/journals/acta-numerica/article/multilevel-monte-carlo-methods/C5AF9A57ED8FF8FDF08074C1071C5511) to achieve optimal comlexity of $O(\\varepsilon^{-2})$ (otherwise, without that regular condition, complexity is $O(\\varepsilon^{-2}(\\log{\\varepsilon})^2)$)."
   ]
  },
  {
   "cell_type": "markdown",
   "metadata": {},
   "source": [
    "As we can see, $\\hat{Z}^{(L)}$ is an unbiased estimator of $\\mathbb{E}_{X,Y}[P_L]$, and $\\mathbb{E}_{X}[P_l] \\xrightarrow{p.} EVPI - EVPPI$. Therefore we can use $\\hat{Z}^{(L)}$ as (biased) estimater of $EVPI - EVPPI$. When estimating $EVPI - EVPPI$ with accuracy of $\\varepsilon$ , we want\n",
    "$$MSE = \\mathbb{E}_{X,Y}\\left[\\{ (EVPI - EVPPI) - \\hat{Z}^{(L)} \\}^2 \\right] = \\sum_{l=1}^{L}{\\frac{\\mathbb{V}_{X,Y}[ Z_l(X,Y) ]}{N_l}} + Bias_{\\hat{Z}^{(L)}} \\leq \\varepsilon^2.$$\n",
    "Here bias-variance decomposition is used in the second equality. And this can be replaced by stronger condition, \n",
    "$$\\sum_{l=1}^{L}{\\frac{\\mathbb{V}_{X,Y}[ Z_l(X,Y) ]}{N_l}} \\leq \\frac{\\varepsilon^2}{2} \\ \\ \\text{and} \\ \\ Bias_{\\hat{Z}^{(L)}} \\leq \\frac{\\varepsilon^2}{2}.$$"
   ]
  },
  {
   "cell_type": "markdown",
   "metadata": {},
   "source": [
    "In the MLMC algorithm, we need to determine both the level $L$ and the number of outer iteration $N_l$ of the estimator $\\hat{Z}_l$ to build estimaer $\\hat{Z}^{(L)}$. In order to do that, (1) we estimate $Bias_{\\hat{Z}^{(L)}}$ for each $L=1,2,3, \\ldots$, and check whether it satisfies $Bias_{\\hat{Z}^{(L)}} \\leq \\varepsilon/2$. (2) Then for the smallest level $L$ that satisfies the condition about the bias term, we compute the optimal $N_1, \\ldots ,N_L$ that achieves $\\sum_{l=1}^{L}{\\frac{\\mathbb{V}_{X,Y}[ Z_l(X,Y) ]}{N_l}} \\leq \\varepsilon^2/2$ with least cost. (3) Finally, the $L$ and the $N_1, \\ldots ,N_L$ can be used to constitute estimator $\\hat{Z}^{(L)}$ whose computational cost is $O(\\varepsilon^{-2})$."
   ]
  },
  {
   "cell_type": "markdown",
   "metadata": {},
   "source": [
    "#### (1) Bias estimation and Level Selection"
   ]
  },
  {
   "cell_type": "markdown",
   "metadata": {},
   "source": [
    "Estimating bias term is a bit heuristic, since there are no defacto-standard procedure of the estimation of the bias. However, the main theorem of the [Giles, Goda 2017](https://arxiv.org/abs/1708.05531?context=math) gaurantees the following two inequality under ragular condition.\n",
    "$$\\mathbb{E}[ Z_l ] \\simeq o \\left(2^{-l}\\right)$$\n",
    "So we can expect there exists some $c$ such that $\\mathbb{E}[ Z_l ] \\simeq c2^{-l}$. Then we get \n",
    "$$Bias_{\\hat{Z}^{(L)}} = \\left( \\sum_{l = L+1}^{\\infty}\\mathbb{E}[ P_{l} - P_{l-1} ] \\right)^2= \\left( \\sum_{l = L+1}^{\\infty}\\mathbb{E}[ Z_l ] \\right)^2 \\simeq \\left( \\mathbb{E}[ Z_L ]\\sum_{l' = 1}^{\\infty}2^{-l'}\\right)^2 = \\mathbb{E}[ Z_L ]^2 \\leq \\frac{\\varepsilon^2}{2}.$$\n",
    "Thus we will compute $\\mathbb{E}[ Z_L ]$ for $L=1,2,3,...$, until we find $L$ which satisfies $\\mathbb{E}[ Z_L ] \\leq \\varepsilon / 2$. The estimation of $\\mathbb{E}[ Z_L ]$ will be done using standard monte carlo approximation, \n",
    "$$\\frac{1}{N}\\sum_{n=1}^{N}{Z_L(X^{(n, L)}, Y^{(1, n, L)},  \\ldots , Y^{(2^L, n, L)} )} \\xrightarrow{p.}\\mathbb{E}[ Z_L ].$$\n",
    "\n"
   ]
  },
  {
   "cell_type": "markdown",
   "metadata": {},
   "source": [
    "#### (2) Finding Optimal $N_l$"
   ]
  },
  {
   "cell_type": "markdown",
   "metadata": {},
   "source": [
    "When we have fixed the level L, derivation of the optimal $N_1, \\ldots ,N_L$ can be easily done by using Lagrange multiplier method. The \"cost of computing $\\hat{Z}^{(L)}$\" is minimized with constraint of \"variance term\" being $\\varepsilon^2/2$, namely,\n",
    "$$\\min_{N_1, \\ldots , N_L}{\\sum_{l=1}^{L}{N_l C[Z_l]}} \\ \\ s.t. \\ \\ \\sum_{l=1}^{L}{\\frac{\\mathbb{V}[ Z_l ]}{N_l}}=\\frac{\\varepsilon^2}{2}.$$\n",
    "Here, we relaxed the integer condition of $N_1, \\ldots , N_L$. Then we get \n",
    "$$\\hat{N_l} = 2\\varepsilon^{-2} \\sqrt{{\\mathbb{V}[ Z_l ] } \\ /\\ { C[Z_l] }}\\left(  \\sum_{l=0}^{L}{\\sqrt{\\mathbb{V}[ Z_l ]C[Z_l]}} \\right). $$\n",
    "Thus we use $\\scriptsize \\left\\lceil \\hat{N_l} \\right\\rceil $ as the number of inner iteration of the MLMC estimator. By doing so, we get total cost of\n",
    "$$ \\sum_{l=1}^{L}{\\hat{N_l} C[Z_l]} = 2\\varepsilon^{-2} \\left(  \\sum_{l=0}^{L}{\\sqrt{\\mathbb{V}[ Z_l ]C[Z_l]}} \\right)^2.$$\n",
    "This total cost of evaluating $EVPI-EVPPI$ is $O(\\varepsilon^{-2})$, since the squred summation term is proved to be finite. The main theorem of the [Giles, Goda 2017](https://arxiv.org/abs/1708.05531?context=math) proves $\\mathbb{V}[ Z_l ] \\simeq O \\left(2^{-\\frac{3}{2}l}\\right)$ and since $C[Z_l] = O(2^l)$, we can see\n",
    "$$\\sum_{l=0}^{L}{\\sqrt{\\mathbb{V}[ Z_l ]C[Z_l]}} \\leq \\sum_{l=0}^{\\infty}{O(2^{-\\frac{1}{4}l})} < \\infty$$"
   ]
  },
  {
   "cell_type": "markdown",
   "metadata": {},
   "source": [
    "#### (3) Computing Estimator"
   ]
  },
  {
   "cell_type": "markdown",
   "metadata": {},
   "source": [
    "We can plug in the values we got, and  $\\hat{Z_l}^{(L)}$ is easily computed. <br>Then by subtracting the estimate of $EVPI-EVPPI$ (, which is  $\\hat{Z_l}^{(L)}$,) from $EVPI$, We get the estimate of $EVPPI$."
   ]
  },
  {
   "cell_type": "markdown",
   "metadata": {},
   "source": [
    "## 2. Implementation"
   ]
  },
  {
   "cell_type": "markdown",
   "metadata": {},
   "source": [
    "Our goal is to build function `EVPI_estimator` and `EVPI_minus_EVPPI_estimator` that takes arbitary accuracy `epsilon` as input and returns the estimate with that accuracy. Then we can easily implement the function `EVPPI_estimator` that estimates the $EVPPI$ with accuracy `epsilon_total`."
   ]
  },
  {
   "cell_type": "markdown",
   "metadata": {},
   "source": [
    "### 2.1 Overview of Functions and Variables in the code\n",
    "Following are the functions implemented."
   ]
  },
  {
   "cell_type": "markdown",
   "metadata": {},
   "source": [
    "| Function / Variable | Input | Output | Notation | Explanation |\n",
    "|:-------------------:|:------|:-------|:---------|:------------|\n",
    "| `L` | - | Integer (not function) | $L$ | Total levels of the MLMC. |\n",
    "| `epsilon` | - | float (not function) | $\\varepsilon$ | The upper bound of $\\sqrt{MSE}$. |\n",
    "| `D` | - | Tuple of integer (not function) | $D$ | Decision set $D$. |\n",
    "| `f(array_1d_dXY)` |  1 dimentional np.array <br>`np.array([d, X1, X2, ..., Y1, Y2, ...])` | Float | $f_d(X,Y)$ | The utility function to be evaluated. |\n",
    "| `X_sampler(shape)` | Tuple `(N1,N2,...,Nm)`  | m+1 dimentional np.ndarray | $X^{(n_1,\\ldots,n_m)} = (X^{(n_1,\\ldots,n_m)}_1, \\ldots , X^{(n_1,\\ldots,n_m)}_{p_X})$<br>$\\forall n_i = 1,\\ldots,N_i \\ (\\forall i=1,\\ldots,m)$| Sample $X^{(n_1,\\ldots,n_m)} = (X^{(n_1,\\ldots,n_m)}_1, \\ldots , X^{(n_1,\\ldots,n_m)}_{p_X})$. Here, we assume the dimention of the $X^{(i,n,l)}$ to be $p_X$. |\n",
    "| `Y_sampler(shape)` | Tuple `(N1,N2,...,Nm)`  | m+1 dimentional np.ndarray | $Y^{(n_1,\\ldots,n_m)} = (Y^{(n_1,\\ldots,n_m)}_1, \\ldots , Y^{(n_1,\\ldots,n_m)}_{p_Y})$<br>$\\forall n_i = 1,\\ldots,N_i \\ (\\forall i=1,\\ldots,m)$| Sample $Y^{(n_1,\\ldots,n_m)} = (Y^{(n_1,\\ldots,n_m)}_1, \\ldots , Y^{(n_1,\\ldots,n_m)}_{p_Y})$. Here, we assume the dimention of the $Y^{(i,n,l)}$ to be $p_Y$. |\n",
    "| `Z_sampler(l,Nl)` | Integer `l`, `Nl` | 1 dimentional np.ndarray | $Z_l^{(n)}=Z_l(X^{(n, l)}, Y^{(1, n, l)}, Y^{(2, n, l)}, \\ldots , Y^{(2^l, n, l)} )$<br> $\\forall n = 1,\\ldots,N_l$ |Notice that `Zn` is the dictionary of the function `Z_sampler[1]` , ... , `Z_sampler[L]`. <br>Here, `D , f, X_sampler, Y_sampler` is used to build this sampler function. |\n",
    "| `EZ[l]`| - | Float (not function) | $\\mathbb{E}_{X,Y}[Z_l(X,Y)]$ | Notice that `EZ` is the dictionary of the value `EZ[1]` , ... , `EZ[L]`. |\n",
    "| `VZ[l]`| - | Float (not function) | $\\mathbb{V}_{X,Y}[Z_l(X,Y)]$ | Notice that `VZ` is the dictionary of the value `VZ[1]` , ... , `VZ[L]`. |\n",
    "| `CZ[l]` | - |Float (not function) | $C[Z_l]$ | Notice that `Zn` is the dictionary of the value `CZ[1]` , ... , `CZ[L]`. |\n",
    "| `Nhat[l]` | - |Float (not function) | $\\left\\lceil \\hat{N_l} \\right\\rceil $ | Notice that `Nhat` is the dictionary of the value `Nhat[1]` , ... , `Nhat[L]`. |\n",
    "| `EVPI_minus_EVPPI_estimator(epsilon, D , f, X_sampler, Y_sampler)` | Float `epsilon`, tuple `D` and function `f`, `X_sampler`, `Y_sampler` | Dictinary | $\\hat{Z}^{(L)} = \\hat{EVPI-EVPPI}_{\\text{with accuracy } \\varepsilon } $  <br> and so on | - |\n",
    "| `EVPI_estimator(epsilon, D , f, X_sampler, Y_sampler)` | Float `epsilon`, tuple `D` and function `f`, `X_sampler`, `Y_sampler` | Dictionary | $\\displaystyle {\\overline {\\max_{d \\in D}{f_d}} - \\max_{d \\in D}{\\overline{f_d}}}_{\\text{with accuracy } \\varepsilon}$ <br>and so on| - |\n",
    "| `EVPPI_estimator(epsilon, D , f, X_sampler, Y_sampler)` | Float `epsilon`, tuple `D` and function `f`, `X_sampler`, `Y_sampler` | Dictinary | $\\hat{EVPPI}_{\\text{with accuracy } \\varepsilon } $  <br> and so on | Estimate $EVPPI$ with standard MLMC. |\n",
    "|`EVPPI_estimator_StdMC(Nx, Ny, D , f, X_sampler, Y_sampler)`| Integer `Nx`, `Ny`, tuple `D` and function `f`, `X_sampler`, `Y_sampler` | Float | $\\hat{EVPPI}_{\\text{with #sample } N_x, N_y }$ | Estimate $EVPPI$ with standard MC. |"
   ]
  },
  {
   "cell_type": "markdown",
   "metadata": {},
   "source": [
    "### 2.2 Functions for EVPI estimation"
   ]
  },
  {
   "cell_type": "code",
   "execution_count": 2,
   "metadata": {},
   "outputs": [],
   "source": [
    "def EVPI_estimator_given_N(N, D, f, X_sampler, Y_sampler):\n",
    "    ### d.shape == (|D|, N, 1) \n",
    "    ### X.shape == (|D|,N, dimX), \n",
    "    ### Y.shape == (|D|,N, dimY)\n",
    "    d = np.array(D).reshape((len(D), 1, 1))*np.ones((1, N, 1))\n",
    "    X = X_sampler((1,N))*np.ones((len(D), 1, 1))\n",
    "    Y = Y_sampler((1,N))*np.ones((len(D), 1, 1))\n",
    "\n",
    "    ###  dxy.shape == (|D|,N, 1+dimX+dimY )\n",
    "    dXY = np.concatenate([d,X,Y], axis=2)\n",
    "    \n",
    "    ### f_values.shape ==  (|D|, N)\n",
    "    f_values = np.apply_along_axis(func1d=f, axis=2, arr=dXY)\n",
    "    \n",
    "    meanXY_max = f_values.max(axis=0).mean()\n",
    "    max_meanXY = f_values.mean(axis=1).max()\n",
    "    EVPI = meanXY_max - max_meanXY\n",
    "    \n",
    "    return EVPI"
   ]
  },
  {
   "cell_type": "code",
   "execution_count": 3,
   "metadata": {
    "collapsed": true,
    "jupyter": {
     "outputs_hidden": true
    }
   },
   "outputs": [],
   "source": [
    "def EVPI_estimator(epsilon, D , f, X_sampler, Y_sampler):\n",
    "    ### We use N0 to estimate the error of the stdMC estimator\n",
    "    N0 = 50\n",
    "    Var_N0 = np.array([EVPI_estimator_given_N(N0, D , f, X_sampler, Y_sampler) for i in range(50)]).var()\n",
    "    Var_1 = Var_N0*N0\n",
    "    N = int(Var_1/epsilon**2)+1\n",
    "    EVPI = EVPI_estimator_given_N(N, D , f, X_sampler, Y_sampler)\n",
    "    return {\"N\":N, \"EVPI\":EVPI}"
   ]
  },
  {
   "cell_type": "markdown",
   "metadata": {},
   "source": [
    "### 2.3 Functions for EVPI - EVPPI estimation"
   ]
  },
  {
   "cell_type": "code",
   "execution_count": 4,
   "metadata": {},
   "outputs": [],
   "source": [
    "def Z_sampler(l,Nl, D , f, X_sampler, Y_sampler):\n",
    "    Nx = Nl\n",
    "    Ny = 2**l\n",
    "    ### d.shape == (|D|, Nx, Ny, 1) \n",
    "    ### X.shape == (|D|,Nx, Ny, dimX), \n",
    "    ### Y.shape == (|D|,Nx, Ny, dimY)\n",
    "    d = np.array(D).reshape((len(D), 1, 1, 1))*np.ones((1, Nx, Ny, 1))\n",
    "    X = X_sampler((1,Nx,1))*np.ones((len(D),1,Ny,1))\n",
    "    Y = Y_sampler((1,Nx,Ny))*np.ones((len(D), 1, 1,1))\n",
    "\n",
    "    ###  dxy.shape == (|D|,Nx,Ny, 1+dimX+dimY )\n",
    "    dXY = np.concatenate([d,X,Y], axis=3)\n",
    "    \n",
    "    ### f_values.shape ==  (|D|, Nx, Ny)\n",
    "    f_values = np.apply_along_axis(func1d=f, axis=3, arr=dXY)\n",
    "    \n",
    "    ### max_1st_half_meanY.shape = (Nx) = (Nl)\n",
    "    ### max_2nd_half_meanY.shape = (Nx) = (Nl)\n",
    "    ### max_whole_meanY.shape = (Nx) = (Nl)\n",
    "    max_1st_half_meanY = f_values[:,:,:2**(l-1)].mean(axis=2).max(axis=0)\n",
    "    max_2nd_half_meanY = f_values[:,:,2**(l-1):].mean(axis=2).max(axis=0)\n",
    "    max_whole_meanY    = f_values[:,:,:        ].mean(axis=2).max(axis=0)\n",
    "    \n",
    "    return (1/2) * (max_1st_half_meanY + max_2nd_half_meanY) - max_whole_meanY"
   ]
  },
  {
   "cell_type": "code",
   "execution_count": 5,
   "metadata": {},
   "outputs": [],
   "source": [
    "def EVPI_minus_EVPPI_estimator(epsilon, D , f, X_sampler, Y_sampler):\n",
    "    \n",
    "    ### We first estimate the optimal level L for constructing MLMC estimator Zhat = EVPI-EVPPI\n",
    "    Maximum_L = 15 ### other values will be fine\n",
    "    Levels0 = [l+1 for l in range(Maximum_L)]\n",
    "    dumpZ = {}\n",
    "    EZ = {}\n",
    "    VZ = {}\n",
    "    CZ = {}\n",
    "    \n",
    "    for l in Levels0:\n",
    "        dumpZ[l] = Z_sampler(l, 100, D , f, X_sampler, Y_sampler)\n",
    "        EZ[l] = dumpZ[l].mean()\n",
    "        VZ[l] = dumpZ[l].var()\n",
    "        CZ[l] = 2**l\n",
    "        ### Increase the level L, until the bias of Z_hat^(L) seems to get ignorable\n",
    "        if EZ[l]**2 < epsilon**2/2:\n",
    "            break\n",
    "        elif l==Maximum_L:\n",
    "            print(\"Maximum level reached. The result must be inaccurate. Please increase tha Maximum level and retry.\")\n",
    "    L = l\n",
    "    Levels = [l+1 for l in range(L)]\n",
    "\n",
    "    ### Next, we compute Nhat[]\n",
    "    sum_VC_root = sum([(VZ[l]*CZ[l])**(0.5) for l in Levels])\n",
    "    Nhat = {l: int(2*epsilon**(-2)*(VZ[l]/CZ[l])**0.5*sum_VC_root)+1 for l in Levels}\n",
    "\n",
    "    ### Finally, we compute Zhat = EVPI-EVPPI\n",
    "    EVPI_minus_EVPPI = sum([Z_sampler(l, Nhat[l], D , f, X_sampler, Y_sampler).mean() for l in Levels])\n",
    "    result = {\"EVPI_minus_EVPPI\":EVPI_minus_EVPPI, \"Nhat\":Nhat, \"EZ\":EZ, \"CZ\":CZ, \"VZ\":VZ, \"Total_C\":sum([CZ[l]*Nhat[l] for l in Levels]) }\n",
    "    return result"
   ]
  },
  {
   "cell_type": "markdown",
   "metadata": {},
   "source": [
    "### 2.4 MLMC estimation of EVPPI"
   ]
  },
  {
   "cell_type": "markdown",
   "metadata": {},
   "source": [
    "In order to estimate EVPPI with total MSE of estimator being less than $\\varepsilon_{\\text{total}}^2$, we estimate $EVPI$ and $EVPI-EVPPI$ with accuracy of $\\varepsilon_{\\text{total}} / \\sqrt2$."
   ]
  },
  {
   "cell_type": "code",
   "execution_count": 6,
   "metadata": {
    "collapsed": true,
    "jupyter": {
     "outputs_hidden": true
    }
   },
   "outputs": [],
   "source": [
    "def EVPPI_estimator(epsilon_total, D , f, X_sampler, Y_sampler):\n",
    "    result_EVPI =  EVPI_estimator(epsilon_total/2**0.5, D , f, X_sampler, Y_sampler)\n",
    "    result_EVPI_minus_EVPPI = EVPI_minus_EVPPI_estimator(epsilon_total/2**0.5, D , f, X_sampler, Y_sampler)\n",
    "    \n",
    "    result = result_EVPI_minus_EVPPI\n",
    "    result[\"Total_C\"] = result_EVPI_minus_EVPPI[\"Total_C\"] + result_EVPI[\"N\"]\n",
    "    \n",
    "    EVPI = result_EVPI[\"EVPI\"]\n",
    "    EVPI_minus_EVPPI = result_EVPI_minus_EVPPI[\"EVPI_minus_EVPPI\"]\n",
    "    EVPPI = EVPI - EVPI_minus_EVPPI\n",
    "    result[\"EVPPI\"] = EVPPI\n",
    "    \n",
    "    result.pop(\"EVPI_minus_EVPPI\")\n",
    "    \n",
    "    return result"
   ]
  },
  {
   "cell_type": "markdown",
   "metadata": {},
   "source": [
    "### 2.5 Standard Monte Carlo estimation of EVPPI"
   ]
  },
  {
   "cell_type": "code",
   "execution_count": 7,
   "metadata": {},
   "outputs": [],
   "source": [
    "def EVPPI_estimator_StdMC(Nx, Ny, D , f, X_sampler, Y_sampler):\n",
    "    ### create list of 1 dimentional np.array to be fed in np.vectorize ###\n",
    "    ### d.shape == (|D|, Nx, Ny, 1) \n",
    "    ### X.shape == (|D|,Nx, Ny, dimX), \n",
    "    ### Y.shape == (|D|,Nx, Ny, dimY)\n",
    "    d = np.array(D).reshape((len(D), 1, 1, 1))*np.ones((1, Nx, Ny, 1))\n",
    "    X = X_sampler((1,Nx,1))*np.ones((len(D),1,Ny,1))\n",
    "    Y = Y_sampler((1,Nx,Ny))*np.ones((len(D), 1, 1,1))\n",
    "\n",
    "    ###  dxy.shape == (|D|,Nx,Ny, 1+dimX+dimY )\n",
    "    dXY = np.concatenate([d,X,Y], axis=3)\n",
    "    \n",
    "    ### f_values.shape ==  (|D|, Nx, Ny)\n",
    "    f_values = np.apply_along_axis(func1d=f, axis=3, arr=dXY)\n",
    "\n",
    "    meanX_max_meanY = f_values.mean(axis=2).max(axis=0).mean()\n",
    "    max_meanX_meanY = f_values.mean(axis=(1,2)).max()\n",
    "    EVPPI_stdMC = meanX_max_meanY - max_meanX_meanY\n",
    "    return EVPPI_stdMC"
   ]
  },
  {
   "cell_type": "markdown",
   "metadata": {},
   "source": [
    "## 3 Numerical Experiment\n",
    "\n",
    "### 3.1 Condition"
   ]
  },
  {
   "cell_type": "markdown",
   "metadata": {},
   "source": [
    "We use the first test case in the [Giles, Goda 2017](https://arxiv.org/abs/1708.05531?context=math), where $D=\\{0,1\\}$ and $X, Y \\sim N(0,1)$, $f_0(X,Y) = 0$, $ f_1(X,Y)=X+Y$.<br>\n",
    "Since we can analyticaly see that $$EVPPI = \\int_{0}^{\\infty}x \\frac{1}{\\sqrt{2\\pi}}\\exp{\\left(\\frac{1}{2}x^2\\right)}dx = \\frac{1}{\\sqrt{2\\pi}}$$,\n",
    "we know that $EVPPI = 0.39894228...$."
   ]
  },
  {
   "cell_type": "code",
   "execution_count": 8,
   "metadata": {},
   "outputs": [],
   "source": [
    "### Initialize Constants and Utility Function ###\n",
    "### d should be integer\n",
    "D = (0,1)\n",
    "epsilon_total = 0.001\n",
    "\n",
    "def f(array_1d_dXY):\n",
    "    d = array_1d_dXY[0]\n",
    "    X1 = array_1d_dXY[1]\n",
    "    Y1 = array_1d_dXY[2]\n",
    "    return d*(X1+Y1)\n",
    "\n",
    "### Initialize smpler of X and Y ###\n",
    "### X2 and Y2 are not used this time.\n",
    "def X_sampler(shape):\n",
    "    X1 = np.random.randn(*shape)\n",
    "    shape_index = tuple(i+1 for i in range(len(shape)))\n",
    "    return np.array([X1]).transpose(*shape_index,0)\n",
    "    \n",
    "def Y_sampler(shape):\n",
    "    Y1 = np.random.randn(*shape)\n",
    "    shape_index = tuple(i+1 for i in range(len(shape)))\n",
    "    return np.array([Y1]).transpose(*shape_index,0)\n",
    "    "
   ]
  },
  {
   "cell_type": "markdown",
   "metadata": {},
   "source": [
    "### 3.2 Computation and Result"
   ]
  },
  {
   "cell_type": "markdown",
   "metadata": {},
   "source": [
    "This might take a few minutes."
   ]
  },
  {
   "cell_type": "code",
   "execution_count": 9,
   "metadata": {},
   "outputs": [
    {
     "name": "stdout",
     "output_type": "stream",
     "text": [
      "Wall time: 42.1 s\n"
     ]
    }
   ],
   "source": [
    "%%time\n",
    "result = EVPPI_estimator(epsilon_total, D , f, X_sampler, Y_sampler)"
   ]
  },
  {
   "cell_type": "code",
   "execution_count": 10,
   "metadata": {},
   "outputs": [
    {
     "data": {
      "text/plain": [
       "0.4002945665860228"
      ]
     },
     "execution_count": 10,
     "metadata": {},
     "output_type": "execute_result"
    }
   ],
   "source": [
    "EVPPI = result[\"EVPPI\"]\n",
    "EVPPI"
   ]
  },
  {
   "cell_type": "markdown",
   "metadata": {},
   "source": [
    "### 3.3 Standard Monte Carlo (for sanity check)"
   ]
  },
  {
   "cell_type": "code",
   "execution_count": 11,
   "metadata": {},
   "outputs": [
    {
     "name": "stdout",
     "output_type": "stream",
     "text": [
      "Wall time: 9.75 s\n"
     ]
    }
   ],
   "source": [
    "%%time\n",
    "Nx = 1000\n",
    "Ny = 1000\n",
    "EVPPI_StdMC = EVPPI_estimator_StdMC(Nx, Ny, D , f, X_sampler, Y_sampler)"
   ]
  },
  {
   "cell_type": "code",
   "execution_count": 12,
   "metadata": {},
   "outputs": [
    {
     "data": {
      "text/plain": [
       "0.37026396170216747"
      ]
     },
     "execution_count": 12,
     "metadata": {},
     "output_type": "execute_result"
    }
   ],
   "source": [
    "EVPPI_StdMC"
   ]
  },
  {
   "cell_type": "markdown",
   "metadata": {},
   "source": [
    "We can see that our MLMC estimate is in good align with standard monte carlo result."
   ]
  },
  {
   "cell_type": "markdown",
   "metadata": {},
   "source": [
    "### 3.4 Computational Cost"
   ]
  },
  {
   "cell_type": "markdown",
   "metadata": {},
   "source": [
    "Let's check the relation between the \"accuracy\" and the \"total cost\".<br>\n",
    "The line graph below shows that the total cost are $O({\\varepsilon_{\\text{total}}}^{-2})$, for accuracy $\\varepsilon_{\\text{total}}$."
   ]
  },
  {
   "cell_type": "code",
   "execution_count": 13,
   "metadata": {},
   "outputs": [
    {
     "name": "stdout",
     "output_type": "stream",
     "text": [
      "Wall time: 1min 4s\n"
     ]
    }
   ],
   "source": [
    "%%time\n",
    "### This might take some minutes. ###\n",
    "Accuracy_list = [2**(-i-3) for i in range(8)]\n",
    "Cost_list = [EVPPI_estimator(epsilon_total, D , f, X_sampler, Y_sampler)[\"Total_C\"] for epsilon_total in Accuracy_list]\n",
    "Cost_list"
   ]
  },
  {
   "cell_type": "code",
   "execution_count": 14,
   "metadata": {},
   "outputs": [
    {
     "data": {
      "image/png": "[encoded data removed]",
      "text/plain": [
       "<matplotlib.figure.Figure at 0xc6b03b6828>"
      ]
     },
     "metadata": {},
     "output_type": "display_data"
    }
   ],
   "source": [
    "% matplotlib inline\n",
    "\n",
    "plt.figure(figsize=(8, 4))\n",
    "plt.xlabel(\"Accuracy\")\n",
    "plt.ylabel(\"Total Computational Cost\")\n",
    "plt.title(\"Computational cost vs Accuracy\")\n",
    "plt.xscale(\"log\")\n",
    "plt.yscale(\"log\")\n",
    "plt.plot(Accuracy_list , Cost_list)\n",
    "plt.plot([1e-0,1e-4],[1e-0,1e+8],c=\"gray\")\n",
    "plt.legend([\"MLMC_Cost vs Accuracy\",\"Cost = Accuracy^(-2)\"])\n",
    "plt.show()"
   ]
  },
  {
   "cell_type": "markdown",
   "metadata": {},
   "source": [
    "## 4 Appendix (More Complex Utility Function)"
   ]
  },
  {
   "cell_type": "markdown",
   "metadata": {},
   "source": [
    "### 4.1 Use of Customized Function"
   ]
  },
  {
   "cell_type": "markdown",
   "metadata": {},
   "source": [
    "The EVPPI for more complex utility functions can be computed like following.<br>\n",
    "Here, we set $D=\\{0,1\\}$ and $X_1,...,X_4, Y_1,...,Y_4 \\sim N(0,1)$, $f_0(X,Y) = 0$, $f_1 = \\sum X_i + \\sum Y_i$."
   ]
  },
  {
   "cell_type": "markdown",
   "metadata": {},
   "source": [
    "Since $\\sum X_i, \\sum Y_i \\sim N(0,2)$, we can think that we have just scaled up the first test case by 2 times this time. <br>\n",
    "So it is natural that the result we get this time is just about 2 times larger than the result of first case."
   ]
  },
  {
   "cell_type": "code",
   "execution_count": 15,
   "metadata": {},
   "outputs": [],
   "source": [
    "### Initialize Constants and Utility Function ###\n",
    "### d should be integer\n",
    "D2 = (0,1)\n",
    "epsilon_total2 = 0.005\n",
    "\n",
    "def f2(array_1d_dXY):\n",
    "    d = array_1d_dXY[0]\n",
    "    X1 = array_1d_dXY[1]\n",
    "    X2 = array_1d_dXY[2]\n",
    "    X3 = array_1d_dXY[3]\n",
    "    X4 = array_1d_dXY[4]\n",
    "    Y1 = array_1d_dXY[5]\n",
    "    Y2 = array_1d_dXY[6]\n",
    "    Y3 = array_1d_dXY[7]\n",
    "    Y4 = array_1d_dXY[8]\n",
    "    return d*(X1+X2+X3+X4+Y1+Y2+Y3+Y4)\n",
    "\n",
    "### Initialize smpler of X and Y ###\n",
    "### X2 and Y2 are not used this time.\n",
    "def X_sampler2(shape):\n",
    "    X1 = np.random.randn(*shape)\n",
    "    X2 = np.random.randn(*shape)\n",
    "    X3 = np.random.randn(*shape)\n",
    "    X4 = np.random.randn(*shape)\n",
    "    shape_index = tuple(i+1 for i in range(len(shape)))\n",
    "    return np.array([X1,X2,X3,X4]).transpose(*shape_index,0)\n",
    "    \n",
    "def Y_sampler2(shape):\n",
    "    Y1 = np.random.randn(*shape)\n",
    "    Y2 = np.random.randn(*shape)\n",
    "    Y3 = np.random.randn(*shape)\n",
    "    Y4 = np.random.randn(*shape)\n",
    "    shape_index = tuple(i+1 for i in range(len(shape)))\n",
    "    return np.array([Y1,Y2,Y3,Y4]).transpose(*shape_index,0)"
   ]
  },
  {
   "cell_type": "code",
   "execution_count": 16,
   "metadata": {},
   "outputs": [
    {
     "name": "stdout",
     "output_type": "stream",
     "text": [
      "Wall time: 11.9 s\n"
     ]
    }
   ],
   "source": [
    "%%time\n",
    "result2 = EVPPI_estimator(epsilon_total2, D2 , f2, X_sampler2, Y_sampler2)"
   ]
  },
  {
   "cell_type": "code",
   "execution_count": 17,
   "metadata": {
    "scrolled": true
   },
   "outputs": [
    {
     "data": {
      "text/plain": [
       "0.79807143239268608"
      ]
     },
     "execution_count": 17,
     "metadata": {},
     "output_type": "execute_result"
    }
   ],
   "source": [
    "EVPPI2 = result2[\"EVPPI\"]\n",
    "EVPPI2"
   ]
  },
  {
   "cell_type": "markdown",
   "metadata": {},
   "source": [
    "You can check if the result of standard monte carlo computation of EVPPI."
   ]
  },
  {
   "cell_type": "code",
   "execution_count": 18,
   "metadata": {
    "scrolled": true
   },
   "outputs": [
    {
     "name": "stdout",
     "output_type": "stream",
     "text": [
      "Wall time: 12.5 s\n"
     ]
    }
   ],
   "source": [
    "%%time\n",
    "Nx2 = 1000\n",
    "Ny2 = 1000\n",
    "EVPPI_StdMC2 = EVPPI_estimator_StdMC(Nx2, Ny2, D2, f2, X_sampler2, Y_sampler2)"
   ]
  },
  {
   "cell_type": "code",
   "execution_count": 19,
   "metadata": {},
   "outputs": [
    {
     "data": {
      "text/plain": [
       "0.79616383628199705"
      ]
     },
     "execution_count": 19,
     "metadata": {},
     "output_type": "execute_result"
    }
   ],
   "source": [
    "EVPPI_StdMC2"
   ]
  },
  {
   "cell_type": "markdown",
   "metadata": {},
   "source": [
    "### 4.2 Optimization of your Customized Function (for speeding up)"
   ]
  },
  {
   "cell_type": "markdown",
   "metadata": {},
   "source": [
    "If we use larger function (e.g. the one that includes 'for loop'),  that can be bottleneck of the computation. <br>\n",
    "So if that is the case for you, we should speed up that function using packages such as 'Cython' or 'Numba'. \n",
    "Below is the example of use of 'Numba'. "
   ]
  },
  {
   "cell_type": "code",
   "execution_count": 20,
   "metadata": {},
   "outputs": [],
   "source": [
    "@jit(\"f8(f8[:])\")\n",
    "def f2_100_jit(array_1d_dXY):\n",
    "    d = array_1d_dXY[0]\n",
    "    X1 = array_1d_dXY[1]\n",
    "    X2 = array_1d_dXY[2]\n",
    "    X3 = array_1d_dXY[3]\n",
    "    X4 = array_1d_dXY[4]\n",
    "    Y1 = array_1d_dXY[5]\n",
    "    Y2 = array_1d_dXY[6]\n",
    "    Y3 = array_1d_dXY[7]\n",
    "    Y4 = array_1d_dXY[8]\n",
    "    Sum = 0\n",
    "    for i in range(100):\n",
    "        Sum = Sum + d*(X1+X2+X3+X4+Y1+Y2+Y3+Y4)*(1/100)\n",
    "    return Sum"
   ]
  },
  {
   "cell_type": "markdown",
   "metadata": {},
   "source": [
    "If you implement the function above without 'Numba', it would run 10~20 times slower."
   ]
  },
  {
   "cell_type": "code",
   "execution_count": 21,
   "metadata": {
    "collapsed": true,
    "jupyter": {
     "outputs_hidden": true
    }
   },
   "outputs": [],
   "source": [
    "def f2_100(array_1d_dXY):\n",
    "    d = array_1d_dXY[0]\n",
    "    X1 = array_1d_dXY[1]\n",
    "    X2 = array_1d_dXY[2]\n",
    "    X3 = array_1d_dXY[3]\n",
    "    X4 = array_1d_dXY[4]\n",
    "    Y1 = array_1d_dXY[5]\n",
    "    Y2 = array_1d_dXY[6]\n",
    "    Y3 = array_1d_dXY[7]\n",
    "    Y4 = array_1d_dXY[8]\n",
    "    Sum = 0\n",
    "    for i in range(100):\n",
    "        Sum = Sum + d*(X1+X2+X3+X4+Y1+Y2+Y3+Y4)*(1/100)\n",
    "    return Sum"
   ]
  },
  {
   "cell_type": "code",
   "execution_count": 22,
   "metadata": {},
   "outputs": [
    {
     "name": "stdout",
     "output_type": "stream",
     "text": [
      "10 loops, best of 3: 128 ms per loop\n"
     ]
    }
   ],
   "source": [
    "%%timeit\n",
    "EVPPI_estimator(0.05, D2 , f2_100_jit, X_sampler2, Y_sampler2)"
   ]
  },
  {
   "cell_type": "code",
   "execution_count": 23,
   "metadata": {},
   "outputs": [
    {
     "name": "stdout",
     "output_type": "stream",
     "text": [
      "1 loop, best of 3: 2.13 s per loop\n"
     ]
    }
   ],
   "source": [
    "%%timeit \n",
    "EVPPI_estimator(0.05, D2 , f2_100, X_sampler2, Y_sampler2)"
   ]
  }
 ],
 "metadata": {
  "anaconda-cloud": {},
  "kernelspec": {
   "display_name": "Python 3",
   "language": "python",
   "name": "python3"
  },
  "language_info": {
   "codemirror_mode": {
    "name": "ipython",
    "version": 3
   },
   "file_extension": ".py",
   "mimetype": "text/x-python",
   "name": "python",
   "nbconvert_exporter": "python",
   "pygments_lexer": "ipython3",
   "version": "3.6.9"
  }
 },
 "nbformat": 4,
 "nbformat_minor": 4
}
